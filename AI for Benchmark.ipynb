{
 "cells": [
  {
   "cell_type": "markdown",
   "id": "b5fab543-675f-4f19-b34f-e698bca9c1da",
   "metadata": {},
   "source": [
    "# Soc25: AI Perf (Commits -> Benchmarks)\n",
    "\n",
    "---\n",
    "\n",
    "## Table of Contents\n",
    "\n",
    "| Section Number | Section Title                     | Description                                          |\n",
    "|----------------|---------------------------------|----------------------------------------------------|\n",
    "| 1              | [Data Collection](#markdown-header-data-collection)                 | Fetching and aggregating commit messages from GitHub repositories. |\n",
    "| 2              | [Data Processing & Labeling](#data-processing--labeling)     | Cleaning, encoding labels, and splitting data for training and evaluation. |\n",
    "| 3              | [Model Architecture](#model-architecture)             | Defining the DistilBERT-based classifier network.  |\n",
    "| 4              | [Model Training and Evaluation](#markdown-header-model-training-and-evaluation)     | Iterative training, loss calculation, validation, and saving the best model. |\n",
    "| 5              | [Inference & Testing](#inference--testing)             | Loading the trained model and running predictions on new commit messages. |\n",
    "\n",
    "---"
   ]
  },
  {
   "cell_type": "markdown",
   "id": "97f3cfc5-edfb-4c3f-9493-bcb26ea5276b",
   "metadata": {},
   "source": [
    "## Data Collection <a class=\"anchor\" id=\"data-collection\"></a>\n",
    "\n",
    "*Fetching and aggregating commit messages from GitHub repository.*\n",
    "Reference: https://github.com/adoptium/aqa-tests"
   ]
  },
  {
   "cell_type": "code",
   "execution_count": 41,
   "id": "d6e0e0e1-f975-424f-886c-5bb1e93bce62",
   "metadata": {},
   "outputs": [
    {
     "name": "stdout",
     "output_type": "stream",
     "text": [
      "Requirement already satisfied: PyGithub in ./myenv/lib/python3.10/site-packages (2.6.1)\n",
      "Requirement already satisfied: requests>=2.14.0 in ./myenv/lib/python3.10/site-packages (from PyGithub) (2.32.3)\n",
      "Requirement already satisfied: pynacl>=1.4.0 in ./myenv/lib/python3.10/site-packages (from PyGithub) (1.5.0)\n",
      "Requirement already satisfied: Deprecated in ./myenv/lib/python3.10/site-packages (from PyGithub) (1.2.18)\n",
      "Requirement already satisfied: pyjwt[crypto]>=2.4.0 in ./myenv/lib/python3.10/site-packages (from PyGithub) (2.10.1)\n",
      "Requirement already satisfied: urllib3>=1.26.0 in ./myenv/lib/python3.10/site-packages (from PyGithub) (2.3.0)\n",
      "Requirement already satisfied: typing-extensions>=4.0.0 in ./myenv/lib/python3.10/site-packages (from PyGithub) (4.12.2)\n",
      "Requirement already satisfied: cryptography>=3.4.0 in ./myenv/lib/python3.10/site-packages (from pyjwt[crypto]>=2.4.0->PyGithub) (45.0.4)\n",
      "Requirement already satisfied: cffi>=1.4.1 in ./myenv/lib/python3.10/site-packages (from pynacl>=1.4.0->PyGithub) (1.17.1)\n",
      "Requirement already satisfied: certifi>=2017.4.17 in ./myenv/lib/python3.10/site-packages (from requests>=2.14.0->PyGithub) (2025.1.31)\n",
      "Requirement already satisfied: charset-normalizer<4,>=2 in ./myenv/lib/python3.10/site-packages (from requests>=2.14.0->PyGithub) (2.1.1)\n",
      "Requirement already satisfied: idna<4,>=2.5 in ./myenv/lib/python3.10/site-packages (from requests>=2.14.0->PyGithub) (3.10)\n",
      "Requirement already satisfied: wrapt<2,>=1.10 in ./myenv/lib/python3.10/site-packages (from Deprecated->PyGithub) (1.17.2)\n",
      "Requirement already satisfied: pycparser in ./myenv/lib/python3.10/site-packages (from cffi>=1.4.1->pynacl>=1.4.0->PyGithub) (2.22)\n",
      "\n",
      "\u001b[1m[\u001b[0m\u001b[34;49mnotice\u001b[0m\u001b[1;39;49m]\u001b[0m\u001b[39;49m A new release of pip is available: \u001b[0m\u001b[31;49m23.0.1\u001b[0m\u001b[39;49m -> \u001b[0m\u001b[32;49m25.1.1\u001b[0m\n",
      "\u001b[1m[\u001b[0m\u001b[34;49mnotice\u001b[0m\u001b[1;39;49m]\u001b[0m\u001b[39;49m To update, run: \u001b[0m\u001b[32;49mpip install --upgrade pip\u001b[0m\n"
     ]
    }
   ],
   "source": [
    "!pip install PyGithub\n",
    "!pip install transformers==4.38.0\n",
    "!pip install accelerate==0.27.2\n",
    "!pip install evaluate"
   ]
  },
  {
   "cell_type": "code",
   "execution_count": 42,
   "id": "abfbe1db-7e2c-4857-9c27-9bdcbe6ef0b2",
   "metadata": {},
   "outputs": [
    {
     "data": {
      "text/html": [
       "<div>\n",
       "<style scoped>\n",
       "    .dataframe tbody tr th:only-of-type {\n",
       "        vertical-align: middle;\n",
       "    }\n",
       "\n",
       "    .dataframe tbody tr th {\n",
       "        vertical-align: top;\n",
       "    }\n",
       "\n",
       "    .dataframe thead th {\n",
       "        text-align: right;\n",
       "    }\n",
       "</style>\n",
       "<table border=\"1\" class=\"dataframe\">\n",
       "  <thead>\n",
       "    <tr style=\"text-align: right;\">\n",
       "      <th></th>\n",
       "      <th>sha</th>\n",
       "      <th>author</th>\n",
       "      <th>date</th>\n",
       "      <th>message</th>\n",
       "    </tr>\n",
       "  </thead>\n",
       "  <tbody>\n",
       "    <tr>\n",
       "      <th>0</th>\n",
       "      <td>55fc2c0273f6d76258d7fd7da5a89623a6cfac68</td>\n",
       "      <td>Phat Hung Diep</td>\n",
       "      <td>2025-06-25T20:51:05+00:00</td>\n",
       "      <td>Enable more DaCapo benchmarks in perf tests (F...</td>\n",
       "    </tr>\n",
       "    <tr>\n",
       "      <th>1</th>\n",
       "      <td>59b233c8efbb381cb54399af67c5853c78c3e780</td>\n",
       "      <td>Amrutha-Kanhirathingal</td>\n",
       "      <td>2025-06-23T20:42:45+00:00</td>\n",
       "      <td>Enabled renaissance-naive-bayes test (#6359)\\n...</td>\n",
       "    </tr>\n",
       "    <tr>\n",
       "      <th>2</th>\n",
       "      <td>dde5be845b80a840cbf5af086e8695d34192ac5f</td>\n",
       "      <td>Amrutha-Kanhirathingal</td>\n",
       "      <td>2025-06-23T16:08:23+00:00</td>\n",
       "      <td>Enabled renaissance-db-shootout test (#6356)\\n...</td>\n",
       "    </tr>\n",
       "    <tr>\n",
       "      <th>3</th>\n",
       "      <td>53f91c8908d4c50650927629c4ee90631fc453de</td>\n",
       "      <td>Amrutha-Kanhirathingal</td>\n",
       "      <td>2025-06-23T13:36:19+00:00</td>\n",
       "      <td>Enabled the renaissance-akka-uct (#6349)\\n\\nSi...</td>\n",
       "    </tr>\n",
       "    <tr>\n",
       "      <th>4</th>\n",
       "      <td>c2cb30403aceac91d61b1840daf93f32093c42fc</td>\n",
       "      <td>Matt Wei</td>\n",
       "      <td>2025-06-19T17:31:37+00:00</td>\n",
       "      <td>Leverage getDependencies for dacapo.zip (#6337...</td>\n",
       "    </tr>\n",
       "  </tbody>\n",
       "</table>\n",
       "</div>"
      ],
      "text/plain": [
       "                                        sha                  author  \\\n",
       "0  55fc2c0273f6d76258d7fd7da5a89623a6cfac68          Phat Hung Diep   \n",
       "1  59b233c8efbb381cb54399af67c5853c78c3e780  Amrutha-Kanhirathingal   \n",
       "2  dde5be845b80a840cbf5af086e8695d34192ac5f  Amrutha-Kanhirathingal   \n",
       "3  53f91c8908d4c50650927629c4ee90631fc453de  Amrutha-Kanhirathingal   \n",
       "4  c2cb30403aceac91d61b1840daf93f32093c42fc                Matt Wei   \n",
       "\n",
       "                        date  \\\n",
       "0  2025-06-25T20:51:05+00:00   \n",
       "1  2025-06-23T20:42:45+00:00   \n",
       "2  2025-06-23T16:08:23+00:00   \n",
       "3  2025-06-23T13:36:19+00:00   \n",
       "4  2025-06-19T17:31:37+00:00   \n",
       "\n",
       "                                             message  \n",
       "0  Enable more DaCapo benchmarks in perf tests (F...  \n",
       "1  Enabled renaissance-naive-bayes test (#6359)\\n...  \n",
       "2  Enabled renaissance-db-shootout test (#6356)\\n...  \n",
       "3  Enabled the renaissance-akka-uct (#6349)\\n\\nSi...  \n",
       "4  Leverage getDependencies for dacapo.zip (#6337...  "
      ]
     },
     "execution_count": 42,
     "metadata": {},
     "output_type": "execute_result"
    }
   ],
   "source": [
    "from github import Github\n",
    "import pandas as pd\n",
    "\n",
    "# Step 1: Load token from file\n",
    "with open(\"token.txt\", \"r\") as f:\n",
    "    github_token = f.read().strip()\n",
    "\n",
    "# Step 2: Authenticate\n",
    "g = Github(github_token)\n",
    "\n",
    "# Step 3: Choose the repo\n",
    "repo = g.get_repo(\"adoptium/aqa-tests\")\n",
    "\n",
    "# Step 4: Get commits in the 'perf/' folder\n",
    "commits = repo.get_commits(path=\"perf\")\n",
    "perf_commits = []\n",
    "\n",
    "# Step 5: Store relevant data\n",
    "for commit in commits[:200]:\n",
    "    perf_commits.append({\n",
    "        \"sha\": commit.sha,\n",
    "        \"author\": commit.commit.author.name,\n",
    "        \"date\": commit.commit.author.date.isoformat(),\n",
    "        \"message\": commit.commit.message\n",
    "    })\n",
    "\n",
    "# Step 6: Convert to DataFrame\n",
    "df_perf = pd.DataFrame(perf_commits)\n",
    "df_perf.head()"
   ]
  },
  {
   "cell_type": "code",
   "execution_count": 43,
   "id": "fed79b53-b8a7-4025-b968-c0ab145d8a57",
   "metadata": {},
   "outputs": [
    {
     "name": "stdout",
     "output_type": "stream",
     "text": [
      "<class 'pandas.core.frame.DataFrame'>\n",
      "RangeIndex: 95 entries, 0 to 94\n",
      "Data columns (total 4 columns):\n",
      " #   Column   Non-Null Count  Dtype \n",
      "---  ------   --------------  ----- \n",
      " 0   sha      95 non-null     object\n",
      " 1   author   95 non-null     object\n",
      " 2   date     95 non-null     object\n",
      " 3   message  95 non-null     object\n",
      "dtypes: object(4)\n",
      "memory usage: 3.1+ KB\n"
     ]
    }
   ],
   "source": [
    "df_perf.info()"
   ]
  },
  {
   "cell_type": "markdown",
   "id": "51046d96-a567-4687-956a-25e969335105",
   "metadata": {},
   "source": [
    "## Data Processing & Labeling <a class=\"anchor\" id=\"data-processing--labeling\"></a>\n",
    "\n",
    "*Cleaning, encoding labels, and splitting data for training and evaluation.*"
   ]
  },
  {
   "cell_type": "code",
   "execution_count": 44,
   "id": "0e501c7c-d538-467e-b814-40388cdeb87d",
   "metadata": {},
   "outputs": [],
   "source": [
    "def classify_benchmark(message: str) -> str:\n",
    "    msg = message.lower()\n",
    "    \n",
    "    # Bumblebench detection\n",
    "    if \"bumblebench\" in msg or \"bumblebench-\" in msg:\n",
    "        return \"bumblebench\"\n",
    "    \n",
    "    # idle_micro detection\n",
    "    if \"idle_micro\" in msg or \"idle micro\" in msg:\n",
    "        return \"idle_micro\"\n",
    "    \n",
    "    # Dacapo detection (many sub-benchmarks start with \"dacapo\")\n",
    "    dacapo_keywords = [\n",
    "        \"dacapo\", \"eclipse\", \"avrora\", \"fop\", \"h2\", \"jython\", \"luindex\", \n",
    "        \"lusearch\", \"pmd\", \"sunflow\", \"tomcat\", \"xalan\"\n",
    "    ]\n",
    "    if any(k in msg for k in dacapo_keywords):\n",
    "        return \"dacapo\"\n",
    "    \n",
    "    # Renaissance detection\n",
    "    renaissance_keywords = [\n",
    "        \"renaissance\", \"akka\", \"als\", \"chi-square\", \"db-shootout\", \"dec-tree\",\n",
    "        \"finagle\", \"fj-kmeans\", \"future-genetic\", \"gauss\", \"log-regression\", \n",
    "        \"mnemonics\", \"movie-lens\", \"naive-bayes\", \"par-mnemonics\", \"philosophers\",\n",
    "        \"scala-kmeans\"\n",
    "    ]\n",
    "    if any(k in msg for k in renaissance_keywords):\n",
    "        return \"renaissance\"\n",
    "    \n",
    "    # Liberty detection\n",
    "    if \"liberty\" in msg or \"dt7\" in msg:\n",
    "        return \"liberty\"\n",
    "    \n",
    "    # SPECjbb detection\n",
    "    if \"specjbb\" in msg or \"spec jbb\" in msg:\n",
    "        return \"specjbb\"\n",
    "    \n",
    "    return \"unknown\""
   ]
  },
  {
   "cell_type": "code",
   "execution_count": 45,
   "id": "9020d42e-70e0-4c30-a89f-5373459929fc",
   "metadata": {},
   "outputs": [
    {
     "data": {
      "text/plain": [
       "benchmark\n",
       "renaissance    33\n",
       "unknown        29\n",
       "dacapo         23\n",
       "bumblebench     8\n",
       "specjbb         2\n",
       "Name: count, dtype: int64"
      ]
     },
     "execution_count": 45,
     "metadata": {},
     "output_type": "execute_result"
    }
   ],
   "source": [
    "df_perf['benchmark'] = df_perf['message'].apply(classify_benchmark)\n",
    "df_perf['benchmark'].value_counts()"
   ]
  },
  {
   "cell_type": "code",
   "execution_count": 46,
   "id": "b5650340-039b-4088-9e93-71e093e1b3b0",
   "metadata": {
    "scrolled": true
   },
   "outputs": [
    {
     "data": {
      "text/html": [
       "<div>\n",
       "<style scoped>\n",
       "    .dataframe tbody tr th:only-of-type {\n",
       "        vertical-align: middle;\n",
       "    }\n",
       "\n",
       "    .dataframe tbody tr th {\n",
       "        vertical-align: top;\n",
       "    }\n",
       "\n",
       "    .dataframe thead th {\n",
       "        text-align: right;\n",
       "    }\n",
       "</style>\n",
       "<table border=\"1\" class=\"dataframe\">\n",
       "  <thead>\n",
       "    <tr style=\"text-align: right;\">\n",
       "      <th></th>\n",
       "      <th>sha</th>\n",
       "      <th>author</th>\n",
       "      <th>date</th>\n",
       "      <th>message</th>\n",
       "      <th>benchmark</th>\n",
       "    </tr>\n",
       "  </thead>\n",
       "  <tbody>\n",
       "    <tr>\n",
       "      <th>0</th>\n",
       "      <td>55fc2c0273f6d76258d7fd7da5a89623a6cfac68</td>\n",
       "      <td>Phat Hung Diep</td>\n",
       "      <td>2025-06-25T20:51:05+00:00</td>\n",
       "      <td>Enable more DaCapo benchmarks in perf tests (F...</td>\n",
       "      <td>dacapo</td>\n",
       "    </tr>\n",
       "    <tr>\n",
       "      <th>4</th>\n",
       "      <td>c2cb30403aceac91d61b1840daf93f32093c42fc</td>\n",
       "      <td>Matt Wei</td>\n",
       "      <td>2025-06-19T17:31:37+00:00</td>\n",
       "      <td>Leverage getDependencies for dacapo.zip (#6337...</td>\n",
       "      <td>dacapo</td>\n",
       "    </tr>\n",
       "    <tr>\n",
       "      <th>5</th>\n",
       "      <td>20c189de9f97f55af5b130fa309872a7ce12bf25</td>\n",
       "      <td>Matt Wei</td>\n",
       "      <td>2025-06-17T20:50:28+00:00</td>\n",
       "      <td>Exclude failed dacapo tests  (#6338)\\n\\n* Only...</td>\n",
       "      <td>dacapo</td>\n",
       "    </tr>\n",
       "    <tr>\n",
       "      <th>7</th>\n",
       "      <td>c1fd79c1ed8c98a6adc91439b16d862a27c6ac2f</td>\n",
       "      <td>Lan Xia</td>\n",
       "      <td>2025-05-30T17:54:13+00:00</td>\n",
       "      <td>Enable dacapo-h2 in Perf Pipeline (#6298)\\n\\nS...</td>\n",
       "      <td>dacapo</td>\n",
       "    </tr>\n",
       "    <tr>\n",
       "      <th>10</th>\n",
       "      <td>5b5a23420e6fe5d539bda422f1ee2f8e20f65a0a</td>\n",
       "      <td>Anna Babu Palathingal</td>\n",
       "      <td>2024-07-31T17:56:09+00:00</td>\n",
       "      <td>Temporarily exclude the build setup for libert...</td>\n",
       "      <td>dacapo</td>\n",
       "    </tr>\n",
       "    <tr>\n",
       "      <th>15</th>\n",
       "      <td>2259324d2dea65724e86ae0a0a51ba5eb4a38abd</td>\n",
       "      <td>github-actions[bot]</td>\n",
       "      <td>2023-09-07T13:49:47+00:00</td>\n",
       "      <td>AUTO: auto exclude test dacapo-avrora ver=21+ ...</td>\n",
       "      <td>dacapo</td>\n",
       "    </tr>\n",
       "    <tr>\n",
       "      <th>16</th>\n",
       "      <td>260da88236df0c033e6a4d74eeff317892d53820</td>\n",
       "      <td>github-actions[bot]</td>\n",
       "      <td>2023-08-18T01:18:56+00:00</td>\n",
       "      <td>AUTO: auto exclude test dacapo-jython ver=11 p...</td>\n",
       "      <td>dacapo</td>\n",
       "    </tr>\n",
       "    <tr>\n",
       "      <th>29</th>\n",
       "      <td>1898c35e22a6100c7be9d9270cad110bfe9b2d52</td>\n",
       "      <td>yansendao</td>\n",
       "      <td>2022-05-23T09:31:45+00:00</td>\n",
       "      <td>Download dacapo.jar form internet only at the ...</td>\n",
       "      <td>dacapo</td>\n",
       "    </tr>\n",
       "    <tr>\n",
       "      <th>45</th>\n",
       "      <td>99820d538da443f601a3e1f1c6efe8e59c74d302</td>\n",
       "      <td>Sayani Mallick</td>\n",
       "      <td>2021-05-05T15:39:23+00:00</td>\n",
       "      <td>Updated github urls to refer to eclipse-openj9...</td>\n",
       "      <td>dacapo</td>\n",
       "    </tr>\n",
       "    <tr>\n",
       "      <th>59</th>\n",
       "      <td>19243bf5bf4bfdcd1489e34e7789886e7bc04c7f</td>\n",
       "      <td>github-actions[bot]</td>\n",
       "      <td>2021-02-12T15:24:22+00:00</td>\n",
       "      <td>AUTO: auto exclude test dacapo-jython impl=ope...</td>\n",
       "      <td>dacapo</td>\n",
       "    </tr>\n",
       "    <tr>\n",
       "      <th>62</th>\n",
       "      <td>28c94c74b2434f1d251bd531145b121d4928196e</td>\n",
       "      <td>github-actions[bot]</td>\n",
       "      <td>2021-01-06T01:27:22+00:00</td>\n",
       "      <td>AUTO: auto exclude test dacapo-lusearch-fix (#...</td>\n",
       "      <td>dacapo</td>\n",
       "    </tr>\n",
       "    <tr>\n",
       "      <th>66</th>\n",
       "      <td>3949a60cffb4a2f2de26ed06a51eed4862a05a55</td>\n",
       "      <td>piyush286</td>\n",
       "      <td>2020-11-04T01:28:12+00:00</td>\n",
       "      <td>Extend Liberty to Other Platforms &amp; Bug Fixes ...</td>\n",
       "      <td>dacapo</td>\n",
       "    </tr>\n",
       "    <tr>\n",
       "      <th>67</th>\n",
       "      <td>61276a83bb54f1324837be1e4409bae87f954409</td>\n",
       "      <td>piyush286</td>\n",
       "      <td>2020-10-17T13:17:30+00:00</td>\n",
       "      <td>Use Affinity &amp; Update Version for Liberty (#20...</td>\n",
       "      <td>dacapo</td>\n",
       "    </tr>\n",
       "    <tr>\n",
       "      <th>71</th>\n",
       "      <td>b75025e7510ec2d6ec4a613f63152f63061715b6</td>\n",
       "      <td>piyush286</td>\n",
       "      <td>2020-07-31T02:40:36+00:00</td>\n",
       "      <td>Ability to Dynamically Set CPU Affinities for ...</td>\n",
       "      <td>dacapo</td>\n",
       "    </tr>\n",
       "    <tr>\n",
       "      <th>73</th>\n",
       "      <td>8ee8bacc8f9bbeba303bfd97b0264670ce33b85b</td>\n",
       "      <td>piyush286</td>\n",
       "      <td>2020-06-18T19:40:43+00:00</td>\n",
       "      <td>Add Liberty Throughput Framework &amp; Other Enhan...</td>\n",
       "      <td>dacapo</td>\n",
       "    </tr>\n",
       "    <tr>\n",
       "      <th>75</th>\n",
       "      <td>42e4497164817f26f61c06ad6e6d678c2c28d9f9</td>\n",
       "      <td>andrew-m-leonard</td>\n",
       "      <td>2020-06-05T10:43:05+00:00</td>\n",
       "      <td>Add ant retry to dacapo.jar download (#1817)\\n...</td>\n",
       "      <td>dacapo</td>\n",
       "    </tr>\n",
       "    <tr>\n",
       "      <th>76</th>\n",
       "      <td>0eae8de10e9a6ba28616413edc88b484aa0fc592</td>\n",
       "      <td>piyush286</td>\n",
       "      <td>2020-05-20T16:37:41+00:00</td>\n",
       "      <td>Mark some Renaissance Benchmarks as Sanity (#1...</td>\n",
       "      <td>dacapo</td>\n",
       "    </tr>\n",
       "    <tr>\n",
       "      <th>77</th>\n",
       "      <td>5fc0fab1c33c0a0b6d2e6421ced6076305fa7bf2</td>\n",
       "      <td>piyush286</td>\n",
       "      <td>2020-05-06T13:12:38+00:00</td>\n",
       "      <td>Rename Renaissance Tests (#1771)\\n\\n• Renamed ...</td>\n",
       "      <td>dacapo</td>\n",
       "    </tr>\n",
       "    <tr>\n",
       "      <th>81</th>\n",
       "      <td>8e809008faff45f303610059f1d73ba00d679862</td>\n",
       "      <td>piyush286</td>\n",
       "      <td>2019-12-07T03:27:55+00:00</td>\n",
       "      <td>Enable Renaissance for All Platforms (#1494)\\n...</td>\n",
       "      <td>dacapo</td>\n",
       "    </tr>\n",
       "    <tr>\n",
       "      <th>83</th>\n",
       "      <td>009e8f5503baa80bce99e1dc0945040f6c59cef9</td>\n",
       "      <td>piyush286</td>\n",
       "      <td>2019-11-27T15:08:01+00:00</td>\n",
       "      <td>Enable Dacapo for All Platforms (#1458)\\n\\n- E...</td>\n",
       "      <td>dacapo</td>\n",
       "    </tr>\n",
       "    <tr>\n",
       "      <th>85</th>\n",
       "      <td>9e982af9ec780199bd90f35b840f3ba0cf795709</td>\n",
       "      <td>piyush286</td>\n",
       "      <td>2019-11-18T03:39:29+00:00</td>\n",
       "      <td>Add Micro-Benchmarks for Collections (#1442)\\n...</td>\n",
       "      <td>dacapo</td>\n",
       "    </tr>\n",
       "    <tr>\n",
       "      <th>91</th>\n",
       "      <td>440f91bc3f72a37fd414b5a5f20579cec5dc8027</td>\n",
       "      <td>piyush286</td>\n",
       "      <td>2019-09-20T01:54:29+00:00</td>\n",
       "      <td>Prepare Benchmarks for Perf Testing (#1351)\\n\\...</td>\n",
       "      <td>dacapo</td>\n",
       "    </tr>\n",
       "    <tr>\n",
       "      <th>92</th>\n",
       "      <td>d03cb10e9bfed85547e4a5f3d7b3af76c7b1e8b5</td>\n",
       "      <td>Shelley Lambert</td>\n",
       "      <td>2019-07-09T14:02:21+00:00</td>\n",
       "      <td>Add Dacapo benchmarks (#1205)\\n\\n* Add dacapo ...</td>\n",
       "      <td>dacapo</td>\n",
       "    </tr>\n",
       "  </tbody>\n",
       "</table>\n",
       "</div>"
      ],
      "text/plain": [
       "                                         sha                 author  \\\n",
       "0   55fc2c0273f6d76258d7fd7da5a89623a6cfac68         Phat Hung Diep   \n",
       "4   c2cb30403aceac91d61b1840daf93f32093c42fc               Matt Wei   \n",
       "5   20c189de9f97f55af5b130fa309872a7ce12bf25               Matt Wei   \n",
       "7   c1fd79c1ed8c98a6adc91439b16d862a27c6ac2f                Lan Xia   \n",
       "10  5b5a23420e6fe5d539bda422f1ee2f8e20f65a0a  Anna Babu Palathingal   \n",
       "15  2259324d2dea65724e86ae0a0a51ba5eb4a38abd    github-actions[bot]   \n",
       "16  260da88236df0c033e6a4d74eeff317892d53820    github-actions[bot]   \n",
       "29  1898c35e22a6100c7be9d9270cad110bfe9b2d52              yansendao   \n",
       "45  99820d538da443f601a3e1f1c6efe8e59c74d302         Sayani Mallick   \n",
       "59  19243bf5bf4bfdcd1489e34e7789886e7bc04c7f    github-actions[bot]   \n",
       "62  28c94c74b2434f1d251bd531145b121d4928196e    github-actions[bot]   \n",
       "66  3949a60cffb4a2f2de26ed06a51eed4862a05a55              piyush286   \n",
       "67  61276a83bb54f1324837be1e4409bae87f954409              piyush286   \n",
       "71  b75025e7510ec2d6ec4a613f63152f63061715b6              piyush286   \n",
       "73  8ee8bacc8f9bbeba303bfd97b0264670ce33b85b              piyush286   \n",
       "75  42e4497164817f26f61c06ad6e6d678c2c28d9f9       andrew-m-leonard   \n",
       "76  0eae8de10e9a6ba28616413edc88b484aa0fc592              piyush286   \n",
       "77  5fc0fab1c33c0a0b6d2e6421ced6076305fa7bf2              piyush286   \n",
       "81  8e809008faff45f303610059f1d73ba00d679862              piyush286   \n",
       "83  009e8f5503baa80bce99e1dc0945040f6c59cef9              piyush286   \n",
       "85  9e982af9ec780199bd90f35b840f3ba0cf795709              piyush286   \n",
       "91  440f91bc3f72a37fd414b5a5f20579cec5dc8027              piyush286   \n",
       "92  d03cb10e9bfed85547e4a5f3d7b3af76c7b1e8b5        Shelley Lambert   \n",
       "\n",
       "                         date  \\\n",
       "0   2025-06-25T20:51:05+00:00   \n",
       "4   2025-06-19T17:31:37+00:00   \n",
       "5   2025-06-17T20:50:28+00:00   \n",
       "7   2025-05-30T17:54:13+00:00   \n",
       "10  2024-07-31T17:56:09+00:00   \n",
       "15  2023-09-07T13:49:47+00:00   \n",
       "16  2023-08-18T01:18:56+00:00   \n",
       "29  2022-05-23T09:31:45+00:00   \n",
       "45  2021-05-05T15:39:23+00:00   \n",
       "59  2021-02-12T15:24:22+00:00   \n",
       "62  2021-01-06T01:27:22+00:00   \n",
       "66  2020-11-04T01:28:12+00:00   \n",
       "67  2020-10-17T13:17:30+00:00   \n",
       "71  2020-07-31T02:40:36+00:00   \n",
       "73  2020-06-18T19:40:43+00:00   \n",
       "75  2020-06-05T10:43:05+00:00   \n",
       "76  2020-05-20T16:37:41+00:00   \n",
       "77  2020-05-06T13:12:38+00:00   \n",
       "81  2019-12-07T03:27:55+00:00   \n",
       "83  2019-11-27T15:08:01+00:00   \n",
       "85  2019-11-18T03:39:29+00:00   \n",
       "91  2019-09-20T01:54:29+00:00   \n",
       "92  2019-07-09T14:02:21+00:00   \n",
       "\n",
       "                                              message benchmark  \n",
       "0   Enable more DaCapo benchmarks in perf tests (F...    dacapo  \n",
       "4   Leverage getDependencies for dacapo.zip (#6337...    dacapo  \n",
       "5   Exclude failed dacapo tests  (#6338)\\n\\n* Only...    dacapo  \n",
       "7   Enable dacapo-h2 in Perf Pipeline (#6298)\\n\\nS...    dacapo  \n",
       "10  Temporarily exclude the build setup for libert...    dacapo  \n",
       "15  AUTO: auto exclude test dacapo-avrora ver=21+ ...    dacapo  \n",
       "16  AUTO: auto exclude test dacapo-jython ver=11 p...    dacapo  \n",
       "29  Download dacapo.jar form internet only at the ...    dacapo  \n",
       "45  Updated github urls to refer to eclipse-openj9...    dacapo  \n",
       "59  AUTO: auto exclude test dacapo-jython impl=ope...    dacapo  \n",
       "62  AUTO: auto exclude test dacapo-lusearch-fix (#...    dacapo  \n",
       "66  Extend Liberty to Other Platforms & Bug Fixes ...    dacapo  \n",
       "67  Use Affinity & Update Version for Liberty (#20...    dacapo  \n",
       "71  Ability to Dynamically Set CPU Affinities for ...    dacapo  \n",
       "73  Add Liberty Throughput Framework & Other Enhan...    dacapo  \n",
       "75  Add ant retry to dacapo.jar download (#1817)\\n...    dacapo  \n",
       "76  Mark some Renaissance Benchmarks as Sanity (#1...    dacapo  \n",
       "77  Rename Renaissance Tests (#1771)\\n\\n• Renamed ...    dacapo  \n",
       "81  Enable Renaissance for All Platforms (#1494)\\n...    dacapo  \n",
       "83  Enable Dacapo for All Platforms (#1458)\\n\\n- E...    dacapo  \n",
       "85  Add Micro-Benchmarks for Collections (#1442)\\n...    dacapo  \n",
       "91  Prepare Benchmarks for Perf Testing (#1351)\\n\\...    dacapo  \n",
       "92  Add Dacapo benchmarks (#1205)\\n\\n* Add dacapo ...    dacapo  "
      ]
     },
     "execution_count": 46,
     "metadata": {},
     "output_type": "execute_result"
    }
   ],
   "source": [
    "df_perf[df_perf['benchmark']=='dacapo']"
   ]
  },
  {
   "cell_type": "markdown",
   "id": "ed2ad793-11fe-42c2-9a31-ef73067e30ca",
   "metadata": {},
   "source": [
    "## Model Architecture <a class=\"anchor\" id=\"model-architecture\"></a>\n",
    "\n",
    "*Defining the DistilBERT-based classifier network.*\n",
    "\n",
    "DistilBERT is a transformers model, smaller and faster than BERT, which was pretrained on the same corpus in a self-supervised fashion, using the BERT base model as a teacher. This means it was pretrained on the raw texts only, with no humans labelling them in any way (which is why it can use lots of publicly available data) with an automatic process to generate inputs and labels from those texts using the BERT base model. \n",
    "\n",
    "Reference: https://huggingface.co/distilbert/distilbert-base-uncased"
   ]
  },
  {
   "cell_type": "code",
   "execution_count": 48,
   "id": "2dc8bd2c-eb5a-4c71-aafd-bee14f43374b",
   "metadata": {},
   "outputs": [],
   "source": [
    "import torch\n",
    "from torch import nn\n",
    "from torch.utils.data import DataLoader, Dataset\n",
    "from transformers import DistilBertTokenizer, DistilBertModel\n",
    "from sklearn.model_selection import train_test_split\n",
    "from sklearn.preprocessing import LabelEncoder\n",
    "from sklearn.metrics import accuracy_score\n",
    "import pandas as pd\n",
    "from tqdm import tqdm"
   ]
  },
  {
   "cell_type": "code",
   "execution_count": 49,
   "id": "0956e80e-225d-4409-babc-4943d6d656b9",
   "metadata": {},
   "outputs": [],
   "source": [
    "df = df_perf[df_perf['benchmark']!='unknown'].rename(columns={'message': 'text'})\n",
    "# Encode labels\n",
    "le = LabelEncoder()\n",
    "df['label_enc'] = le.fit_transform(df['benchmark'])\n",
    "\n",
    "# Split train/test, convert Series to lists\n",
    "train_texts, val_texts, train_labels, val_labels = train_test_split(\n",
    "    df['text'].tolist(),\n",
    "    df['label_enc'].tolist(),\n",
    "    test_size=0.2,\n",
    "    random_state=42\n",
    ")"
   ]
  },
  {
   "cell_type": "code",
   "execution_count": 50,
   "id": "f2b74f71-fc52-452c-b560-fce834d97e50",
   "metadata": {},
   "outputs": [
    {
     "name": "stderr",
     "output_type": "stream",
     "text": [
      "/data1/phdiep/myenv/lib/python3.10/site-packages/huggingface_hub/file_download.py:943: FutureWarning: `resume_download` is deprecated and will be removed in version 1.0.0. Downloads always resume when possible. If you want to force a new download, use `force_download=True`.\n",
      "  warnings.warn(\n"
     ]
    }
   ],
   "source": [
    "tokenizer = DistilBertTokenizer.from_pretrained(\"distilbert-base-uncased\")\n",
    "\n",
    "# Tokenize texts WITHOUT return_tensors to keep lists for indexing in Dataset\n",
    "train_encodings = tokenizer(train_texts, truncation=True, padding=True)\n",
    "val_encodings = tokenizer(val_texts, truncation=True, padding=True)"
   ]
  },
  {
   "cell_type": "code",
   "execution_count": 51,
   "id": "ca66c5f9-05e1-41d3-b953-fd3a56ea39d6",
   "metadata": {},
   "outputs": [],
   "source": [
    "class CommitDataset(Dataset):\n",
    "    def __init__(self, encodings, labels):\n",
    "        self.encodings = encodings\n",
    "        self.labels = labels\n",
    "    def __getitem__(self, idx):\n",
    "        return {\n",
    "            'input_ids': torch.tensor(self.encodings['input_ids'][idx]),\n",
    "            'attention_mask': torch.tensor(self.encodings['attention_mask'][idx]),\n",
    "            'labels': torch.tensor(self.labels[idx])\n",
    "        }\n",
    "    def __len__(self):\n",
    "        return len(self.labels)\n",
    "\n",
    "train_dataset = CommitDataset(train_encodings, train_labels)\n",
    "val_dataset = CommitDataset(val_encodings, val_labels)"
   ]
  },
  {
   "cell_type": "code",
   "execution_count": 52,
   "id": "07213940-61fe-4c03-a40a-8e37a3f939b5",
   "metadata": {},
   "outputs": [],
   "source": [
    "class DistilBertClassifier(nn.Module):\n",
    "    def __init__(self, num_labels):\n",
    "        super().__init__()\n",
    "        self.distilbert = DistilBertModel.from_pretrained('distilbert-base-uncased')\n",
    "        self.dropout = nn.Dropout(0.3)\n",
    "        self.classifier = nn.Linear(self.distilbert.config.hidden_size, num_labels)\n",
    "    def forward(self, input_ids, attention_mask):\n",
    "        outputs = self.distilbert(input_ids=input_ids, attention_mask=attention_mask)\n",
    "        hidden_state = outputs.last_hidden_state       # (batch_size, seq_len, hidden_dim)\n",
    "        pooled_output = hidden_state[:,0]               # take first token's embeddings\n",
    "        dropout_output = self.dropout(pooled_output)\n",
    "        logits = self.classifier(dropout_output)\n",
    "        return logits"
   ]
  },
  {
   "cell_type": "markdown",
   "id": "7beb9cc9-6e51-4d49-99c5-53039e13d45a",
   "metadata": {},
   "source": [
    "## Model Training and Evaluation <a class=\"anchor\" id=\"model-training-and-evaluation\"></a>\n",
    "\n",
    "This section sets up the training environment by selecting the device (GPU if available, otherwise CPU) and initializing the DistilBERT classifier with the appropriate number of output labels.\n",
    "\n",
    "We define the optimizer (AdamW) and loss function (CrossEntropyLoss) to guide the model's learning process. The training and validation datasets are wrapped in DataLoaders for efficient batching and shuffling.\n",
    "\n",
    "The training runs for 10 epochs, where in each epoch the model learns from batches of training data, updating its weights to minimize the loss. After training, the model is evaluated on the validation set to measure accuracy, helping monitor how well the model generalizes.\n",
    "\n",
    "The best-performing model (with highest validation accuracy) is saved to disk for future use.\n"
   ]
  },
  {
   "cell_type": "code",
   "execution_count": 53,
   "id": "f9dc543e-d6b4-422a-83ae-d8e9d551c815",
   "metadata": {},
   "outputs": [
    {
     "name": "stderr",
     "output_type": "stream",
     "text": [
      "Training Epoch 1: 100%|███████████████████████████| 7/7 [00:00<00:00, 17.65it/s]\n"
     ]
    },
    {
     "name": "stdout",
     "output_type": "stream",
     "text": [
      "Epoch 1 Training Loss: 1.2418823071888514\n",
      "Epoch 1 Validation Accuracy: 0.35714285714285715\n"
     ]
    },
    {
     "name": "stderr",
     "output_type": "stream",
     "text": [
      "Training Epoch 2: 100%|███████████████████████████| 7/7 [00:00<00:00, 17.71it/s]\n"
     ]
    },
    {
     "name": "stdout",
     "output_type": "stream",
     "text": [
      "Epoch 2 Training Loss: 0.9370836445263454\n",
      "Epoch 2 Validation Accuracy: 0.5\n"
     ]
    },
    {
     "name": "stderr",
     "output_type": "stream",
     "text": [
      "Training Epoch 3: 100%|███████████████████████████| 7/7 [00:00<00:00, 17.73it/s]\n"
     ]
    },
    {
     "name": "stdout",
     "output_type": "stream",
     "text": [
      "Epoch 3 Training Loss: 0.849163396017892\n",
      "Epoch 3 Validation Accuracy: 0.5\n"
     ]
    },
    {
     "name": "stderr",
     "output_type": "stream",
     "text": [
      "Training Epoch 4: 100%|███████████████████████████| 7/7 [00:00<00:00, 17.57it/s]\n"
     ]
    },
    {
     "name": "stdout",
     "output_type": "stream",
     "text": [
      "Epoch 4 Training Loss: 0.6369722144944328\n",
      "Epoch 4 Validation Accuracy: 0.5\n"
     ]
    },
    {
     "name": "stderr",
     "output_type": "stream",
     "text": [
      "Training Epoch 5: 100%|███████████████████████████| 7/7 [00:00<00:00, 17.63it/s]\n"
     ]
    },
    {
     "name": "stdout",
     "output_type": "stream",
     "text": [
      "Epoch 5 Training Loss: 0.39904361963272095\n",
      "Epoch 5 Validation Accuracy: 0.7857142857142857\n"
     ]
    },
    {
     "name": "stderr",
     "output_type": "stream",
     "text": [
      "Training Epoch 6: 100%|███████████████████████████| 7/7 [00:00<00:00, 17.62it/s]\n"
     ]
    },
    {
     "name": "stdout",
     "output_type": "stream",
     "text": [
      "Epoch 6 Training Loss: 0.2636386454105377\n",
      "Epoch 6 Validation Accuracy: 0.7857142857142857\n"
     ]
    },
    {
     "name": "stderr",
     "output_type": "stream",
     "text": [
      "Training Epoch 7: 100%|███████████████████████████| 7/7 [00:00<00:00, 17.72it/s]\n"
     ]
    },
    {
     "name": "stdout",
     "output_type": "stream",
     "text": [
      "Epoch 7 Training Loss: 0.14183505198785237\n",
      "Epoch 7 Validation Accuracy: 0.7857142857142857\n"
     ]
    },
    {
     "name": "stderr",
     "output_type": "stream",
     "text": [
      "Training Epoch 8: 100%|███████████████████████████| 7/7 [00:00<00:00, 17.60it/s]\n"
     ]
    },
    {
     "name": "stdout",
     "output_type": "stream",
     "text": [
      "Epoch 8 Training Loss: 0.06499755808285304\n",
      "Epoch 8 Validation Accuracy: 0.7857142857142857\n"
     ]
    },
    {
     "name": "stderr",
     "output_type": "stream",
     "text": [
      "Training Epoch 9: 100%|███████████████████████████| 7/7 [00:00<00:00, 17.73it/s]\n"
     ]
    },
    {
     "name": "stdout",
     "output_type": "stream",
     "text": [
      "Epoch 9 Training Loss: 0.0505709672080619\n",
      "Epoch 9 Validation Accuracy: 0.7857142857142857\n"
     ]
    },
    {
     "name": "stderr",
     "output_type": "stream",
     "text": [
      "Training Epoch 10: 100%|██████████████████████████| 7/7 [00:00<00:00, 17.63it/s]\n"
     ]
    },
    {
     "name": "stdout",
     "output_type": "stream",
     "text": [
      "Epoch 10 Training Loss: 0.03358478205544608\n",
      "Epoch 10 Validation Accuracy: 0.7857142857142857\n"
     ]
    }
   ],
   "source": [
    "device = torch.device('cuda' if torch.cuda.is_available() else 'cpu')\n",
    "\n",
    "label_classes = pd.Series(le.classes_)\n",
    "label_classes.to_csv('label_classes.csv', index=False, header=False)\n",
    "\n",
    "model = DistilBertClassifier(num_labels=len(le.classes_)).to(device)\n",
    "optimizer = torch.optim.AdamW(model.parameters(), lr=2e-5)\n",
    "loss_fn = nn.CrossEntropyLoss()\n",
    "\n",
    "train_loader = DataLoader(train_dataset, batch_size=8, shuffle=True)\n",
    "val_loader = DataLoader(val_dataset, batch_size=16)\n",
    "\n",
    "train_losses = []\n",
    "val_accuracies = []\n",
    "best_accuracy = 0\n",
    "\n",
    "for epoch in range(10):\n",
    "    model.train()\n",
    "    total_loss = 0\n",
    "\n",
    "    for batch in tqdm(train_loader, desc=f\"Training Epoch {epoch+1}\"):\n",
    "        input_ids = batch['input_ids'].to(device)\n",
    "        attention_mask = batch['attention_mask'].to(device)\n",
    "        labels = batch['labels'].to(device)\n",
    "\n",
    "        optimizer.zero_grad()\n",
    "        outputs = model(input_ids=input_ids, attention_mask=attention_mask)\n",
    "        loss = loss_fn(outputs, labels)\n",
    "        loss.backward()\n",
    "        optimizer.step()\n",
    "\n",
    "        total_loss += loss.item()\n",
    "\n",
    "    avg_loss = total_loss / len(train_loader)\n",
    "    train_losses.append(avg_loss)\n",
    "    print(f\"Epoch {epoch+1} Training Loss: {avg_loss}\")\n",
    "\n",
    "    model.eval()\n",
    "    preds, targets = [], []\n",
    "\n",
    "    with torch.no_grad():\n",
    "        for batch in val_loader:\n",
    "            input_ids = batch['input_ids'].to(device)\n",
    "            attention_mask = batch['attention_mask'].to(device)\n",
    "            labels = batch['labels'].to(device)\n",
    "\n",
    "            outputs = model(input_ids=input_ids, attention_mask=attention_mask)\n",
    "            logits = outputs.detach().cpu()\n",
    "            preds.extend(torch.argmax(logits, dim=1).tolist())\n",
    "            targets.extend(labels.cpu().tolist())\n",
    "\n",
    "    accuracy = accuracy_score(targets, preds)\n",
    "    val_accuracies.append(accuracy)\n",
    "    if accuracy > best_accuracy:\n",
    "        best_accuracy = accuracy\n",
    "        torch.save(model.state_dict(), 'best_model.pt')\n",
    "    print(f\"Epoch {epoch+1} Validation Accuracy: {accuracy}\")"
   ]
  },
  {
   "cell_type": "code",
   "execution_count": 54,
   "id": "42c5fbf2-b340-4552-aad4-5abfeb5be44e",
   "metadata": {},
   "outputs": [
    {
     "name": "stdout",
     "output_type": "stream",
     "text": [
      "Validation Accuracy: 0.7857142857142857\n"
     ]
    }
   ],
   "source": [
    "from sklearn.metrics import accuracy_score\n",
    "\n",
    "model.eval()\n",
    "preds, targets = [], []\n",
    "\n",
    "with torch.no_grad():\n",
    "    for batch in val_loader:\n",
    "        input_ids = batch['input_ids'].to(device)\n",
    "        attention_mask = batch['attention_mask'].to(device)\n",
    "        labels = batch['labels'].to(device)\n",
    "\n",
    "        outputs = model(input_ids=input_ids, attention_mask=attention_mask)\n",
    "        logits = outputs.detach().cpu()\n",
    "        preds.extend(torch.argmax(logits, dim=1).tolist())\n",
    "        targets.extend(labels.cpu().tolist())\n",
    "\n",
    "print(\"Validation Accuracy:\", accuracy_score(targets, preds))\n"
   ]
  },
  {
   "cell_type": "code",
   "execution_count": 55,
   "id": "2213a448-3c91-4dbb-bc53-0fdfa79bb94d",
   "metadata": {},
   "outputs": [
    {
     "data": {
      "image/png": "[encoded data removed]",
      "text/plain": [
       "<Figure size 640x480 with 1 Axes>"
      ]
     },
     "metadata": {},
     "output_type": "display_data"
    }
   ],
   "source": [
    "import matplotlib.pyplot as plt\n",
    "\n",
    "epochs = range(1, len(train_losses) + 1)\n",
    "\n",
    "plt.plot(epochs, train_losses, label='Training Loss')\n",
    "plt.plot(epochs, val_accuracies, label='Validation Accuracy')\n",
    "plt.xlabel('Epoch')\n",
    "plt.ylabel('Loss')\n",
    "plt.title('Training vs Accuracy Loss')\n",
    "plt.legend()\n",
    "plt.show()"
   ]
  },
  {
   "cell_type": "markdown",
   "id": "18fd49ec-e3e6-4df8-8d59-1b5b08a2709b",
   "metadata": {},
   "source": [
    "## Inference & Testing <a class=\"anchor\" id=\"inference-testing\"></a>\n",
    "\n",
    "*Loading the trained model and running predictions on new commit messages.*"
   ]
  },
  {
   "cell_type": "code",
   "execution_count": 56,
   "id": "4c0c1e8f-a814-4dee-a0d1-1020672d4678",
   "metadata": {},
   "outputs": [
    {
     "name": "stderr",
     "output_type": "stream",
     "text": [
      "/data1/phdiep/myenv/lib/python3.10/site-packages/huggingface_hub/file_download.py:943: FutureWarning: `resume_download` is deprecated and will be removed in version 1.0.0. Downloads always resume when possible. If you want to force a new download, use `force_download=True`.\n",
      "  warnings.warn(\n"
     ]
    }
   ],
   "source": [
    "import torch\n",
    "from transformers import DistilBertTokenizer, DistilBertModel\n",
    "from torch import nn\n",
    "import torch.nn.functional as F\n",
    "from sklearn.preprocessing import LabelEncoder\n",
    "import numpy as np\n",
    "# Define device (cuda if available)\n",
    "device = torch.device('cuda' if torch.cuda.is_available() else 'cpu')\n",
    "\n",
    "label_classes = pd.read_csv('label_classes.csv', header=None).squeeze().values\n",
    "\n",
    "le = LabelEncoder()\n",
    "le.classes_ = np.array(label_classes)\n",
    "\n",
    "# Model definition (same as training)\n",
    "class DistilBertClassifier(nn.Module):\n",
    "    def __init__(self, num_labels):\n",
    "        super().__init__()\n",
    "        self.distilbert = DistilBertModel.from_pretrained('distilbert-base-uncased')\n",
    "        self.dropout = nn.Dropout(0.3)\n",
    "        self.classifier = nn.Linear(self.distilbert.config.hidden_size, num_labels)\n",
    "\n",
    "    def forward(self, input_ids, attention_mask):\n",
    "        outputs = self.distilbert(input_ids=input_ids, attention_mask=attention_mask)\n",
    "        hidden_state = outputs.last_hidden_state\n",
    "        pooled_output = hidden_state[:, 0]  # [CLS] token equivalent\n",
    "        dropout_output = self.dropout(pooled_output)\n",
    "        logits = self.classifier(dropout_output)\n",
    "        return logits\n",
    "\n",
    "# Number of labels must match training\n",
    "num_labels = len(le.classes_)\n",
    "\n",
    "# Initialize and load model to device\n",
    "model = DistilBertClassifier(num_labels=num_labels)\n",
    "model.load_state_dict(torch.load('best_model.pt', map_location=device))\n",
    "model.to(device)\n",
    "model.eval()\n",
    "\n",
    "# Load tokenizer\n",
    "tokenizer = DistilBertTokenizer.from_pretrained('distilbert-base-uncased')\n",
    "\n",
    "# Prediction function\n",
    "def predict_commit_label(commit_message, top_k=1):\n",
    "    model.eval()\n",
    "    inputs = tokenizer(\n",
    "        [commit_message], \n",
    "        truncation=True,\n",
    "        padding=True,\n",
    "        return_tensors='pt'\n",
    "    )\n",
    "    # Move inputs to device\n",
    "    inputs = {k: v.to(device) for k, v in inputs.items()}\n",
    "    \n",
    "    with torch.no_grad():\n",
    "        outputs = model(**inputs)\n",
    "        probs = F.softmax(outputs, dim=1)\n",
    "    \n",
    "    top_probs, top_indices = torch.topk(probs, top_k)\n",
    "    top_probs = top_probs.cpu().numpy().flatten()\n",
    "    top_indices = top_indices.cpu().numpy().flatten()\n",
    "    \n",
    "    labels = le.inverse_transform(top_indices)\n",
    "    return list(zip(labels, top_probs))"
   ]
  },
  {
   "cell_type": "code",
   "execution_count": 58,
   "id": "0df9c4d6-9f4b-4781-a338-357c8a5bc805",
   "metadata": {},
   "outputs": [
    {
     "name": "stdout",
     "output_type": "stream",
     "text": [
      "Commit: Leverage getDependencies for dacapo.zip (#6337)\n",
      "  Predicted: dacapo (Confidence: 0.60)\n",
      "  Predicted: renaissance (Confidence: 0.27)\n",
      "  Predicted: bumblebench (Confidence: 0.12)\n",
      "\n",
      "Commit: Enable dacapo-h2 in Perf Pipeline\n",
      "  Predicted: dacapo (Confidence: 0.49)\n",
      "  Predicted: renaissance (Confidence: 0.38)\n",
      "  Predicted: bumblebench (Confidence: 0.12)\n",
      "\n"
     ]
    }
   ],
   "source": [
    "test_commits = [\n",
    "    \"Leverage getDependencies for dacapo.zip (#6337)\",\n",
    "    \"Enable dacapo-h2 in Perf Pipeline\"\n",
    "]\n",
    "\n",
    "for commit in test_commits:\n",
    "    predictions = predict_commit_label(commit, top_k=3)\n",
    "    print(f\"Commit: {commit}\")\n",
    "    for label, prob in predictions:\n",
    "        print(f\"  Predicted: {label} (Confidence: {prob:.2f})\")\n",
    "    print()"
   ]
  }
 ],
 "metadata": {
  "kernelspec": {
   "display_name": "Python 3 (ipykernel)",
   "language": "python",
   "name": "python3"
  },
  "language_info": {
   "codemirror_mode": {
    "name": "ipython",
    "version": 3
   },
   "file_extension": ".py",
   "mimetype": "text/x-python",
   "name": "python",
   "nbconvert_exporter": "python",
   "pygments_lexer": "ipython3",
   "version": "3.10.13"
  }
 },
 "nbformat": 4,
 "nbformat_minor": 5
}
